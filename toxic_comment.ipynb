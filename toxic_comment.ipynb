{
  "cells": [
    {
      "metadata": {
        "trusted": true
      },
      "cell_type": "code",
      "source": "!pip install -U azureml-sdk",
      "execution_count": 36,
      "outputs": [
        {
          "output_type": "stream",
          "text": "Collecting azureml-sdk\n  Downloading https://files.pythonhosted.org/packages/69/a0/d9844f8e784577851fec041bd8979cafecf5fd2c9ec3346091391dfd22a5/azureml_sdk-1.0.55-py3-none-any.whl\nCollecting azureml-pipeline==1.0.55.* (from azureml-sdk)\n  Downloading https://files.pythonhosted.org/packages/7b/9b/46efaf066200ac1c2fb27ce6170eba19122e88c44745a8ee34ad84c73093/azureml_pipeline-1.0.55-py3-none-any.whl\nCollecting azureml-dataprep<1.2.0a,>=1.1.9a (from azureml-sdk)\n\u001b[?25l  Downloading https://files.pythonhosted.org/packages/6c/07/a6671c1b668d3ba1d5235c926d9fff51afd13b4c75caf1f8cc8526a7531b/azureml_dataprep-1.1.10-py3-none-any.whl (24.0MB)\n\u001b[K     |████████████████████████████████| 24.0MB 11kB/s  eta 0:00:01    |█▎                              | 993kB 3.6MB/s eta 0:00:07     |██▊                             | 2.0MB 3.6MB/s eta 0:00:07     |█████████████▉                  | 10.3MB 1.7MB/s eta 0:00:09�███████████▍               | 12.3MB 2.1MB/s eta 0:00:06     |███████████████████             | 14.3MB 2.0MB/s eta 0:00:05     |███████████████████▎            | 14.5MB 2.0MB/s eta 0:00:05\n\u001b[?25hCollecting azureml-train==1.0.55.* (from azureml-sdk)\n  Downloading https://files.pythonhosted.org/packages/59/0f/66f5bcb17bd4334d1f9d285a57176e0c6aed4f1cf4c5e74cfb438c2d5281/azureml_train-1.0.55-py3-none-any.whl\nCollecting azureml-core==1.0.55.* (from azureml-sdk)\n\u001b[?25l  Downloading https://files.pythonhosted.org/packages/68/ef/22cf450673063594d4744df60ede4a8a81911276a3543188d1323046294c/azureml_core-1.0.55-py2.py3-none-any.whl (995kB)\n\u001b[K     |████████████████████████████████| 1.0MB 3.8MB/s eta 0:00:01\n\u001b[?25hCollecting azureml-pipeline-core==1.0.55.* (from azureml-pipeline==1.0.55.*->azureml-sdk)\n\u001b[?25l  Downloading https://files.pythonhosted.org/packages/2e/d3/d80b90b813ffe2d3051b709aedc95e1c940f5fb54e04daf3d4f4992be2a6/azureml_pipeline_core-1.0.55-py2.py3-none-any.whl (204kB)\n\u001b[K     |████████████████████████████████| 204kB 8.6MB/s eta 0:00:01\n\u001b[?25hCollecting azureml-pipeline-steps==1.0.55.* (from azureml-pipeline==1.0.55.*->azureml-sdk)\n  Downloading https://files.pythonhosted.org/packages/0d/d5/53a9ab7f8250f86aed03d4ceb736a63fab4f971b2ee612e10e19c4a9db99/azureml_pipeline_steps-1.0.55-py3-none-any.whl\nRequirement already satisfied, skipping upgrade: azureml-dataprep-native<14.0.0,>=13.0.0 in /home/nbuser/anaconda3_501/lib/python3.6/site-packages (from azureml-dataprep<1.2.0a,>=1.1.9a->azureml-sdk) (13.0.0)\nRequirement already satisfied, skipping upgrade: dotnetcore2==2.1.8 in /home/nbuser/anaconda3_501/lib/python3.6/site-packages (from azureml-dataprep<1.2.0a,>=1.1.9a->azureml-sdk) (2.1.8)\nCollecting azureml-train-core==1.0.55.* (from azureml-train==1.0.55.*->azureml-sdk)\n\u001b[?25l  Downloading https://files.pythonhosted.org/packages/2a/95/20fa5dbf46269a88854d917d15931fcc0aff070b88b62e3f81785504722c/azureml_train_core-1.0.55-py3-none-any.whl (71kB)\n\u001b[K     |████████████████████████████████| 71kB 2.0MB/s eta 0:00:011\n\u001b[?25hRequirement already satisfied, skipping upgrade: ruamel.yaml<=0.15.89,>=0.15.35 in /home/nbuser/anaconda3_501/lib/python3.6/site-packages (from azureml-core==1.0.55.*->azureml-sdk) (0.15.89)\nRequirement already satisfied, skipping upgrade: azure-mgmt-storage>=1.5.0 in /home/nbuser/anaconda3_501/lib/python3.6/site-packages (from azureml-core==1.0.55.*->azureml-sdk) (2.0.0)\nRequirement already satisfied, skipping upgrade: SecretStorage in /home/nbuser/anaconda3_501/lib/python3.6/site-packages (from azureml-core==1.0.55.*->azureml-sdk) (3.1.0)\nRequirement already satisfied, skipping upgrade: cryptography!=1.9,!=2.0.*,!=2.1.*,!=2.2.* in /home/nbuser/anaconda3_501/lib/python3.6/site-packages (from azureml-core==1.0.55.*->azureml-sdk) (2.3.1)\nRequirement already satisfied, skipping upgrade: pathspec in /home/nbuser/anaconda3_501/lib/python3.6/site-packages (from azureml-core==1.0.55.*->azureml-sdk) (0.5.9)\nRequirement already satisfied, skipping upgrade: urllib3>=1.23 in /home/nbuser/anaconda3_501/lib/python3.6/site-packages (from azureml-core==1.0.55.*->azureml-sdk) (1.23)\nRequirement already satisfied, skipping upgrade: python-dateutil>=2.7.3 in /home/nbuser/anaconda3_501/lib/python3.6/site-packages (from azureml-core==1.0.55.*->azureml-sdk) (2.8.0)\nRequirement already satisfied, skipping upgrade: contextlib2 in /home/nbuser/anaconda3_501/lib/python3.6/site-packages (from azureml-core==1.0.55.*->azureml-sdk) (0.5.5)\nRequirement already satisfied, skipping upgrade: azure-mgmt-resource>=1.2.1 in /home/nbuser/anaconda3_501/lib/python3.6/site-packages (from azureml-core==1.0.55.*->azureml-sdk) (2.0.0)\nRequirement already satisfied, skipping upgrade: azure-mgmt-containerregistry>=2.0.0 in /home/nbuser/anaconda3_501/lib/python3.6/site-packages (from azureml-core==1.0.55.*->azureml-sdk) (2.8.0)\nRequirement already satisfied, skipping upgrade: PyJWT in /home/nbuser/anaconda3_501/lib/python3.6/site-packages (from azureml-core==1.0.55.*->azureml-sdk) (1.7.1)\nRequirement already satisfied, skipping upgrade: docker in /home/nbuser/anaconda3_501/lib/python3.6/site-packages (from azureml-core==1.0.55.*->azureml-sdk) (4.0.2)\nRequirement already satisfied, skipping upgrade: azure-common>=1.1.12 in /home/nbuser/anaconda3_501/lib/python3.6/site-packages (from azureml-core==1.0.55.*->azureml-sdk) (1.1.23)\nRequirement already satisfied, skipping upgrade: ndg-httpsclient in /home/nbuser/anaconda3_501/lib/python3.6/site-packages (from azureml-core==1.0.55.*->azureml-sdk) (0.5.1)\nRequirement already satisfied, skipping upgrade: azure-graphrbac>=0.40.0 in /home/nbuser/anaconda3_501/lib/python3.6/site-packages (from azureml-core==1.0.55.*->azureml-sdk) (0.40.0)\nRequirement already satisfied, skipping upgrade: requests>=2.19.1 in /home/nbuser/anaconda3_501/lib/python3.6/site-packages (from azureml-core==1.0.55.*->azureml-sdk) (2.22.0)\nRequirement already satisfied, skipping upgrade: adal>=1.2.0 in /home/nbuser/anaconda3_501/lib/python3.6/site-packages (from azureml-core==1.0.55.*->azureml-sdk) (1.2.2)\nRequirement already satisfied, skipping upgrade: jmespath in /home/nbuser/anaconda3_501/lib/python3.6/site-packages (from azureml-core==1.0.55.*->azureml-sdk) (0.9.4)\nRequirement already satisfied, skipping upgrade: six>=1.11.0 in /home/nbuser/anaconda3_501/lib/python3.6/site-packages (from azureml-core==1.0.55.*->azureml-sdk) (1.11.0)\nRequirement already satisfied, skipping upgrade: backports.tempfile in /home/nbuser/anaconda3_501/lib/python3.6/site-packages (from azureml-core==1.0.55.*->azureml-sdk) (1.0)\nRequirement already satisfied, skipping upgrade: msrest>=0.5.1 in /home/nbuser/anaconda3_501/lib/python3.6/site-packages (from azureml-core==1.0.55.*->azureml-sdk) (0.6.8)\nRequirement already satisfied, skipping upgrade: msrestazure>=0.4.33 in /home/nbuser/anaconda3_501/lib/python3.6/site-packages (from azureml-core==1.0.55.*->azureml-sdk) (0.6.1)\nRequirement already satisfied, skipping upgrade: pyopenssl in /home/nbuser/anaconda3_501/lib/python3.6/site-packages (from azureml-core==1.0.55.*->azureml-sdk) (18.0.0)\nRequirement already satisfied, skipping upgrade: pytz in /home/nbuser/anaconda3_501/lib/python3.6/site-packages (from azureml-core==1.0.55.*->azureml-sdk) (2018.7)\nRequirement already satisfied, skipping upgrade: azure-mgmt-keyvault>=0.40.0 in /home/nbuser/anaconda3_501/lib/python3.6/site-packages (from azureml-core==1.0.55.*->azureml-sdk) (1.1.0)\nRequirement already satisfied, skipping upgrade: azure-mgmt-authorization>=0.40.0 in /home/nbuser/anaconda3_501/lib/python3.6/site-packages (from azureml-core==1.0.55.*->azureml-sdk) (0.50.0)\nRequirement already satisfied, skipping upgrade: jsonpickle in /home/nbuser/anaconda3_501/lib/python3.6/site-packages (from azureml-core==1.0.55.*->azureml-sdk) (1.2)\nRequirement already satisfied, skipping upgrade: distro>=1.2.0 in /home/nbuser/anaconda3_501/lib/python3.6/site-packages (from dotnetcore2==2.1.8->azureml-dataprep<1.2.0a,>=1.1.9a->azureml-sdk) (1.4.0)\nCollecting azureml-telemetry==1.0.55.* (from azureml-train-core==1.0.55.*->azureml-train==1.0.55.*->azureml-sdk)\n  Downloading https://files.pythonhosted.org/packages/05/50/aba876fad5b33440b3e842683ccaa6848dcee9a9183c72aad5eeb3d7bb76/azureml_telemetry-1.0.55-py3-none-any.whl\n",
          "name": "stdout"
        },
        {
          "output_type": "stream",
          "text": "Collecting azureml-train-restclients-hyperdrive==1.0.55.* (from azureml-train-core==1.0.55.*->azureml-train==1.0.55.*->azureml-sdk)\n  Downloading https://files.pythonhosted.org/packages/f4/a2/c6e122d8b6a61ef30c151690f0924cd4a5f0d938ebb4f75dca9e3c949db8/azureml_train_restclients_hyperdrive-1.0.55-py3-none-any.whl\nRequirement already satisfied, skipping upgrade: azure-mgmt-nspkg>=2.0.0 in /home/nbuser/anaconda3_501/lib/python3.6/site-packages (from azure-mgmt-storage>=1.5.0->azureml-core==1.0.55.*->azureml-sdk) (3.0.2)\nRequirement already satisfied, skipping upgrade: jeepney in /home/nbuser/anaconda3_501/lib/python3.6/site-packages (from SecretStorage->azureml-core==1.0.55.*->azureml-sdk) (0.4)\nRequirement already satisfied, skipping upgrade: idna>=2.1 in /home/nbuser/anaconda3_501/lib/python3.6/site-packages (from cryptography!=1.9,!=2.0.*,!=2.1.*,!=2.2.*->azureml-core==1.0.55.*->azureml-sdk) (2.7)\nRequirement already satisfied, skipping upgrade: asn1crypto>=0.21.0 in /home/nbuser/anaconda3_501/lib/python3.6/site-packages (from cryptography!=1.9,!=2.0.*,!=2.1.*,!=2.2.*->azureml-core==1.0.55.*->azureml-sdk) (0.24.0)\nRequirement already satisfied, skipping upgrade: cffi!=1.11.3,>=1.7 in /home/nbuser/anaconda3_501/lib/python3.6/site-packages (from cryptography!=1.9,!=2.0.*,!=2.1.*,!=2.2.*->azureml-core==1.0.55.*->azureml-sdk) (1.11.5)\nRequirement already satisfied, skipping upgrade: websocket-client>=0.32.0 in /home/nbuser/anaconda3_501/lib/python3.6/site-packages (from docker->azureml-core==1.0.55.*->azureml-sdk) (0.56.0)\nRequirement already satisfied, skipping upgrade: pyasn1>=0.1.1 in /home/nbuser/anaconda3_501/lib/python3.6/site-packages (from ndg-httpsclient->azureml-core==1.0.55.*->azureml-sdk) (0.4.4)\nRequirement already satisfied, skipping upgrade: azure-nspkg>=2.0.0 in /home/nbuser/anaconda3_501/lib/python3.6/site-packages (from azure-graphrbac>=0.40.0->azureml-core==1.0.55.*->azureml-sdk) (3.0.2)\nRequirement already satisfied, skipping upgrade: certifi>=2017.4.17 in /home/nbuser/anaconda3_501/lib/python3.6/site-packages (from requests>=2.19.1->azureml-core==1.0.55.*->azureml-sdk) (2018.10.15)\nRequirement already satisfied, skipping upgrade: chardet<3.1.0,>=3.0.2 in /home/nbuser/anaconda3_501/lib/python3.6/site-packages (from requests>=2.19.1->azureml-core==1.0.55.*->azureml-sdk) (3.0.4)\nRequirement already satisfied, skipping upgrade: backports.weakref in /home/nbuser/anaconda3_501/lib/python3.6/site-packages (from backports.tempfile->azureml-core==1.0.55.*->azureml-sdk) (1.0rc1)\nRequirement already satisfied, skipping upgrade: isodate>=0.6.0 in /home/nbuser/anaconda3_501/lib/python3.6/site-packages (from msrest>=0.5.1->azureml-core==1.0.55.*->azureml-sdk) (0.6.0)\nRequirement already satisfied, skipping upgrade: requests-oauthlib>=0.5.0 in /home/nbuser/anaconda3_501/lib/python3.6/site-packages (from msrest>=0.5.1->azureml-core==1.0.55.*->azureml-sdk) (1.2.0)\nRequirement already satisfied, skipping upgrade: applicationinsights in /home/nbuser/anaconda3_501/lib/python3.6/site-packages (from azureml-telemetry==1.0.55.*->azureml-train-core==1.0.55.*->azureml-train==1.0.55.*->azureml-sdk) (0.11.9)\nRequirement already satisfied, skipping upgrade: pycparser in /home/nbuser/anaconda3_501/lib/python3.6/site-packages (from cffi!=1.11.3,>=1.7->cryptography!=1.9,!=2.0.*,!=2.1.*,!=2.2.*->azureml-core==1.0.55.*->azureml-sdk) (2.19)\nRequirement already satisfied, skipping upgrade: oauthlib>=3.0.0 in /home/nbuser/anaconda3_501/lib/python3.6/site-packages (from requests-oauthlib>=0.5.0->msrest>=0.5.1->azureml-core==1.0.55.*->azureml-sdk) (3.0.2)\n\u001b[31mERROR: azureml-widgets 1.0.48 has requirement azureml-core==1.0.48.*, but you'll have azureml-core 1.0.55 which is incompatible.\u001b[0m\n\u001b[31mERROR: azureml-widgets 1.0.48 has requirement azureml-telemetry==1.0.48.*, but you'll have azureml-telemetry 1.0.55 which is incompatible.\u001b[0m\n\u001b[31mERROR: azureml-train-automl 1.0.48 has requirement azureml-core==1.0.48.*, but you'll have azureml-core 1.0.55 which is incompatible.\u001b[0m\n\u001b[31mERROR: azureml-train-automl 1.0.48 has requirement azureml-pipeline-core==1.0.48.*, but you'll have azureml-pipeline-core 1.0.55 which is incompatible.\u001b[0m\n\u001b[31mERROR: azureml-train-automl 1.0.48 has requirement azureml-telemetry==1.0.48.*, but you'll have azureml-telemetry 1.0.55 which is incompatible.\u001b[0m\n\u001b[31mERROR: azureml-contrib-opendatasets 1.0.45 has requirement azureml-telemetry==1.0.45.*, but you'll have azureml-telemetry 1.0.55 which is incompatible.\u001b[0m\n\u001b[31mERROR: azureml-contrib-notebook 1.0.48 has requirement azureml-core==1.0.48.*, but you'll have azureml-core 1.0.55 which is incompatible.\u001b[0m\nInstalling collected packages: azureml-core, azureml-pipeline-core, azureml-telemetry, azureml-train-restclients-hyperdrive, azureml-train-core, azureml-pipeline-steps, azureml-pipeline, azureml-dataprep, azureml-train, azureml-sdk\n  Found existing installation: azureml-core 1.0.48\n    Uninstalling azureml-core-1.0.48:\n      Successfully uninstalled azureml-core-1.0.48\n  Found existing installation: azureml-pipeline-core 1.0.48\n    Uninstalling azureml-pipeline-core-1.0.48:\n      Successfully uninstalled azureml-pipeline-core-1.0.48\n  Found existing installation: azureml-telemetry 1.0.45\n    Uninstalling azureml-telemetry-1.0.45:\n      Successfully uninstalled azureml-telemetry-1.0.45\n  Found existing installation: azureml-train-restclients-hyperdrive 1.0.48\n    Uninstalling azureml-train-restclients-hyperdrive-1.0.48:\n      Successfully uninstalled azureml-train-restclients-hyperdrive-1.0.48\n  Found existing installation: azureml-train-core 1.0.48\n    Uninstalling azureml-train-core-1.0.48:\n      Successfully uninstalled azureml-train-core-1.0.48\n  Found existing installation: azureml-pipeline-steps 1.0.48\n    Uninstalling azureml-pipeline-steps-1.0.48:\n      Successfully uninstalled azureml-pipeline-steps-1.0.48\n  Found existing installation: azureml-pipeline 1.0.48\n    Uninstalling azureml-pipeline-1.0.48:\n      Successfully uninstalled azureml-pipeline-1.0.48\n  Found existing installation: azureml-dataprep 1.1.8\n    Uninstalling azureml-dataprep-1.1.8:\n      Successfully uninstalled azureml-dataprep-1.1.8\n  Found existing installation: azureml-train 1.0.48\n    Uninstalling azureml-train-1.0.48:\n      Successfully uninstalled azureml-train-1.0.48\n  Found existing installation: azureml-sdk 1.0.48\n    Uninstalling azureml-sdk-1.0.48:\n      Successfully uninstalled azureml-sdk-1.0.48\nSuccessfully installed azureml-core-1.0.55 azureml-dataprep-1.1.10 azureml-pipeline-1.0.55 azureml-pipeline-core-1.0.55 azureml-pipeline-steps-1.0.55 azureml-sdk-1.0.55 azureml-telemetry-1.0.55 azureml-train-1.0.55 azureml-train-core-1.0.55 azureml-train-restclients-hyperdrive-1.0.55\n\u001b[33mWARNING: You are using pip version 19.1.1, however version 19.2.2 is available.\nYou should consider upgrading via the 'pip install --upgrade pip' command.\u001b[0m\n",
          "name": "stdout"
        }
      ]
    },
    {
      "metadata": {
        "trusted": true
      },
      "cell_type": "code",
      "source": "import azureml.core\nprint(\"SDK version:\", azureml.core.VERSION)",
      "execution_count": 1,
      "outputs": [
        {
          "output_type": "stream",
          "text": "Failure while loading azureml_run_type_providers. Failed to load entrypoint hyperdrive = azureml.train.hyperdrive:HyperDriveRun._from_run_dto with exception (azureml-telemetry 1.0.45 (/home/nbuser/anaconda3_501/lib/python3.6/site-packages), Requirement.parse('azureml-telemetry==1.0.48.*')).\n",
          "name": "stderr"
        },
        {
          "output_type": "stream",
          "text": "SDK version: 1.0.48\n",
          "name": "stdout"
        }
      ]
    },
    {
      "metadata": {
        "trusted": true
      },
      "cell_type": "code",
      "source": "from azureml.core import Workspace\nws = Workspace(subscription_id=\"ee85ed72-2b26-48f6-a0e8-cb5bcf98fbd9\", resource_group=\"DatasetTestRG\", workspace_name=\"Dataset-Test-WS\")\nprint(ws.name, ws.resource_group, ws.location, ws.subscription_id, sep = '\\n')",
      "execution_count": 2,
      "outputs": [
        {
          "output_type": "stream",
          "text": "Performing interactive authentication. Please follow the instructions on the terminal.\nTo sign in, use a web browser to open the page https://microsoft.com/devicelogin and enter the code FMEZTU8ZY to authenticate.\nInteractive authentication successfully completed.\nDataset-Test-WS\nDatasetTestRG\neastus\nee85ed72-2b26-48f6-a0e8-cb5bcf98fbd9\n",
          "name": "stdout"
        }
      ]
    },
    {
      "metadata": {
        "trusted": true
      },
      "cell_type": "code",
      "source": "from azureml.core.compute import AmlCompute\ncompute_target_name = \"nlp-test\"\ncompute_target = AmlCompute(ws, compute_target_name)",
      "execution_count": 3,
      "outputs": []
    },
    {
      "metadata": {
        "trusted": true
      },
      "cell_type": "code",
      "source": "from azureml.core.conda_dependencies import CondaDependencies\nfrom azureml.core.runconfig import RunConfiguration\nfrom azureml.core.environment import DockerSection\nrunconfig = RunConfiguration(framework=\"python\")\nrunconfig.environment.python.conda_dependencies = CondaDependencies('dependencies.yml')\nrunconfig.environment.docker = DockerSection()\nrunconfig.environment.docker.enabled = True\nrunconfig.environment.docker.gpu_support = True\nrunconfig.environment.docker.base_image = azureml.core.runconfig.DEFAULT_GPU_IMAGE",
      "execution_count": 4,
      "outputs": []
    },
    {
      "metadata": {
        "trusted": true
      },
      "cell_type": "code",
      "source": "from azureml.data.data_reference import DataReference\nfrom azureml.core import Datastore\nds = Datastore.get(ws, 'workspaceblobstore')",
      "execution_count": 5,
      "outputs": []
    },
    {
      "metadata": {
        "trusted": true
      },
      "cell_type": "code",
      "source": "# data module\nfrom azureml.pipeline.core import PipelineData\nfrom azureml.pipeline.steps import PythonScriptStep\n\ntrain_input_data = DataReference(\n    datastore=ds,\n    data_reference_name=\"train_input_data\",\n    path_on_datastore=\"train/cleaned_train_sampled.csv\")\n# train_input_data = DataReference(\n#     datastore=ds,\n#     data_reference_name=\"train_input_data\",\n#     path_on_datastore=\"debug/train_16.csv\")\ntrain_data = PipelineData(\"train_data\",datastore=ds)\n\nload_train_data_step = PythonScriptStep(\n    name=\"load_data_step\",\n    script_name=\"run_modules/data_module.py\", \n    arguments=[\"--input_data\", train_input_data, \n               \"--output_dir\", train_data],\n    inputs=[train_input_data],\n    outputs=[train_data],\n    compute_target=compute_target,\n    runconfig = runconfig,\n    source_directory='.'\n)",
      "execution_count": 6,
      "outputs": []
    },
    {
      "metadata": {
        "trusted": true
      },
      "cell_type": "code",
      "source": "# data module —— load test dataset\ntest_input_data = DataReference(\n    datastore=ds,\n    data_reference_name=\"test_input_data\",\n    path_on_datastore=\"test/cleaned_test_data_labels.csv\")\n# test_input_data = DataReference(\n#     datastore=ds,\n#     data_reference_name=\"test_input_data\",\n#     path_on_datastore=\"debug/test_32.csv\")\n\ntest_data = PipelineData(\"test_data\",datastore=ds)\n\nload_test_data_step = PythonScriptStep(\n    name=\"load_test_data_step\",\n    script_name=\"run_modules/data_module.py\", \n    arguments=[\"--input_data\", test_input_data, \n               \"--output_dir\", test_data],\n    inputs=[test_input_data],\n    outputs=[test_data],\n    compute_target=compute_target,\n    runconfig = runconfig,\n    source_directory='.'\n)",
      "execution_count": 7,
      "outputs": []
    },
    {
      "metadata": {
        "trusted": true
      },
      "cell_type": "code",
      "source": "#split data module\n# dataset1 = PipelineData(\"output_data1\",datastore=ds)\n# dataset2 = PipelineData(\"output_data2\",datastore=ds)\n# #parameters\n# row_split_rate = 0.7\n# random = True\n# random_seed = 200\n# split_data_step = PythonScriptStep(\n#     name=\"split_data_step\",\n#     script_name=\"run_modules/split_data_module.py\", \n#     arguments=[\"--input_dir\", train_data, \n#                \"--output_dir1\", dataset1,\n#                \"--output_dir2\", dataset2,\n#                \"--row_split_rate\", row_split_rate,\n#                \"--random\", random,\n#                \"--random_seed\", random_seed],\n#     inputs=[train_data],\n#     outputs=[dataset1, dataset2],\n#     compute_target=compute_target,\n#     runconfig = runconfig,\n#     source_directory='.'\n# )\n",
      "execution_count": 8,
      "outputs": []
    },
    {
      "metadata": {
        "trusted": true
      },
      "cell_type": "code",
      "source": "dataset1 = train_data\ndataset2 = test_data",
      "execution_count": 9,
      "outputs": []
    },
    {
      "metadata": {
        "trusted": true
      },
      "cell_type": "code",
      "source": "# bert module\nchosed_model = PipelineData(\"chosed_bert\",datastore=ds)\n\nlanguage = \"En\"\nuncased = True\nbuild_bert_step = PythonScriptStep(\n    name=\"build_bert_step\",\n    script_name=\"run_modules/bert_module.py\", \n    arguments=[\"--out_model_dir\", chosed_model,\n               \"--language\", language,\n              \"--uncased\", uncased],\n    outputs=[chosed_model],\n    compute_target=compute_target,\n    runconfig = runconfig,\n    source_directory='.'\n)\n",
      "execution_count": 10,
      "outputs": []
    },
    {
      "metadata": {
        "trusted": true
      },
      "cell_type": "code",
      "source": "# custom added layer module\nlabel_num = 6\n#category = 'lstm_multi_label_classifier' \nlayer_name = 'multi_label_classifier'\nadded_layer = PipelineData(\"added_layer\",datastore=ds)\ncustom_layer_step = PythonScriptStep(\n    name=\"custom_layer_step\",\n    script_name=\"run_modules/add_layer_module.py\", \n    arguments=[\"--label_num\", label_num, \n               \"--layer_name\", layer_name,\n               \"--output_dir\", added_layer],\n    outputs=[added_layer],\n    compute_target=compute_target,\n    runconfig = runconfig,\n    source_directory='.'\n)\n",
      "execution_count": 11,
      "outputs": []
    },
    {
      "metadata": {
        "trusted": true
      },
      "cell_type": "code",
      "source": "# train module \nbert_dir = DataReference(\n    datastore=ds,\n    data_reference_name=\"bert_dir\",\n    path_on_datastore=\"models\")\n\ntrained_model_dir = PipelineData(\"trained_model_dir\", datastore=ds)\nis_training_bert= False # Device cannot support training and is generally setted False.\ntrain_batch_size = 2\nuse_gpu = True\nnum_gpu_cores = 4\nlearning_rate = 5e-5\nnum_train_epochs = 3.0\ntrain_column_names =\"comment_text\"\nlabel_column_names = \"toxic severe_toxic obscene threat insult identity_hate\"\ntrain_step = PythonScriptStep(\n    name=\"train_step\",\n    script_name=\"run_modules/train_module.py\", \n    arguments=[\"--bert_dir\", bert_dir,\n               \"--bert_model\", chosed_model, \n               \"--added_layer_config\", added_layer,\n               \"--train_data\", dataset1,\n               \"--output_dir\", trained_model_dir,\n               \"--is_training_bert\", is_training_bert,\n               \"--train_batch_size\", train_batch_size,\n               \"--use_gpu\",use_gpu,\n               \"--num_gpu_cores\", num_gpu_cores,\n               \"--learning_rate\", learning_rate,\n               \"--num_train_epochs\", num_train_epochs,\n               \"--train_column_names\",train_column_names,\n               \"--label_column_names\", label_column_names],\n    inputs=[bert_dir, chosed_model, added_layer, dataset1],\n    outputs=[trained_model_dir],\n    compute_target=compute_target,\n    runconfig = runconfig,\n    source_directory='.'\n)\n\n",
      "execution_count": 12,
      "outputs": []
    },
    {
      "metadata": {
        "trusted": true
      },
      "cell_type": "code",
      "source": "# score/predict module\n\npredict_result_dir = PipelineData(\"predict_dir\",datastore=ds)\npredict_batch_size = 2\nuse_gpu = True\nnum_gpu_cores = 4\npredict_column_names = \"comment_text\"\npredict_step = PythonScriptStep(\n    name=\"predict_step\",\n    script_name=\"run_modules/predict_module.py\", \n    arguments=[\"--bert_dir\", bert_dir,\n               \"--bert_model\", chosed_model, \n               \"--added_layer_config\", added_layer,\n               \"--test_data\", dataset2,\n               \"--trained_model_dir\", trained_model_dir,\n               \"--output_dir\", predict_result_dir,\n               \"--predict_batch_size\", predict_batch_size,\n               \"--use_gpu\", use_gpu,\n               \"--num_gpu_cores\", num_gpu_cores,\n               \"--predict_column_names\", predict_column_names],\n    inputs=[bert_dir, chosed_model, added_layer, dataset2, trained_model_dir],\n    outputs=[predict_result_dir],\n    compute_target=compute_target,\n    runconfig = runconfig,\n    source_directory='.'\n)",
      "execution_count": 13,
      "outputs": []
    },
    {
      "metadata": {
        "trusted": true
      },
      "cell_type": "code",
      "source": "# evaluate module\nevaluate_result_dir = PipelineData(\"evaluate_results\",datastore=ds)\npr = True\nroc = True\nlabel_columns = \"toxic severe_toxic obscene threat insult identity_hate\"\nprobability_columns = \"probability_1 probability_2 probability_3 probability_4 probability_5 probability_6\"\nevaluate_step = PythonScriptStep(\n    name=\"evaluate_step\",\n    script_name=\"run_modules/evaluate_module.py\", \n    arguments=[ \"--input_data\", predict_result_dir,\n                \"--pr\", pr,\n                \"--roc\", roc,\n                \"--output_dir\", evaluate_result_dir,\n                \"--label_columns\", label_columns,\n                \"--probability_columns\", probability_columns],\n    inputs=[predict_result_dir],\n    outputs=[evaluate_result_dir],\n    compute_target=compute_target,\n    runconfig = runconfig,\n    source_directory='.'\n)",
      "execution_count": 14,
      "outputs": []
    },
    {
      "metadata": {
        "trusted": true
      },
      "cell_type": "code",
      "source": "from azureml.core import Experiment\nfrom azureml.pipeline.core import Pipeline\npipeline_toxic= Pipeline(workspace=ws, steps=[evaluate_step])\n#pipeline_split_data = Pipeline(workspace=ws, steps=[split_data_step])\n",
      "execution_count": 15,
      "outputs": []
    },
    {
      "metadata": {
        "trusted": true
      },
      "cell_type": "code",
      "source": "pipeline_run = Experiment(ws, 'toxic_comment').submit(pipeline_toxic)\n#pipeline_run = Experiment(ws, 'toxic_comment').submit(pipeline_split_data)",
      "execution_count": 16,
      "outputs": [
        {
          "output_type": "stream",
          "text": "Created step evaluate_step [590fe763][b9176d67-4aed-410b-80d6-89c3f933dd76], (This step will run and generate new outputs)\nCreated step predict_step [d592246d][f15cd6bc-a06a-40c6-b5ae-549436b9cf2d], (This step will run and generate new outputs)\nCreated step build_bert_step [db396121][886e48b3-0b5b-4814-ab9c-ec95d672b9ac], (This step will run and generate new outputs)\nCreated step custom_layer_step [aa2febf4][8cc00054-0f03-49a9-bfbe-cac706c99976], (This step will run and generate new outputs)\nCreated step load_test_data_step [4e6d4541][7d4f42ca-3b8c-4a36-a807-58770e391984], (This step will run and generate new outputs)\nCreated step train_step [f4893916][745cd1a0-8ac4-48d7-879d-1d5f1d1196d6], (This step will run and generate new outputs)\nCreated step load_data_step [78e0e9b6][cd934aad-5138-48e1-b587-b910c87cdf74], (This step will run and generate new outputs)\nUsing data reference bert_dir for StepId [83f28508][a34cc5da-bebe-4d82-90ea-cdb21b91cc5f], (Consumers of this data are eligible to reuse prior runs.)\nUsing data reference test_input_data for StepId [cbd54854][102689f7-4393-44b3-a8ef-393916cb1b1a], (Consumers of this data are eligible to reuse prior runs.)\nUsing data reference bert_dir for StepId [7f13c5d5][a34cc5da-bebe-4d82-90ea-cdb21b91cc5f], (Consumers of this data are eligible to reuse prior runs.)\nUsing data reference train_input_data for StepId [9c69b883][ef69d207-732c-49d6-9371-09ebb8bf2b33], (Consumers of this data are eligible to reuse prior runs.)\nSubmitted pipeline run: cded93fd-880f-49d6-90a4-ecfa0db5ff6a\n",
          "name": "stdout"
        }
      ]
    },
    {
      "metadata": {
        "trusted": true
      },
      "cell_type": "code",
      "source": "from azureml.core import Experiment\nfrom azureml.pipeline.core import PipelineRun\npipeline_run = Experiment(ws, 'toxic_comment')\npipeline_run = PipelineRun(pipeline_run, \"44b1f188-beb3-4cd6-9300-23667970394a\")\npipeline_run.cancel()\n",
      "execution_count": 35,
      "outputs": []
    },
    {
      "metadata": {
        "trusted": true
      },
      "cell_type": "code",
      "source": "",
      "execution_count": null,
      "outputs": []
    }
  ],
  "metadata": {
    "kernelspec": {
      "name": "python36",
      "display_name": "Python 3.6",
      "language": "python"
    },
    "language_info": {
      "mimetype": "text/x-python",
      "nbconvert_exporter": "python",
      "name": "python",
      "pygments_lexer": "ipython3",
      "version": "3.6.6",
      "file_extension": ".py",
      "codemirror_mode": {
        "version": 3,
        "name": "ipython"
      }
    }
  },
  "nbformat": 4,
  "nbformat_minor": 2
}