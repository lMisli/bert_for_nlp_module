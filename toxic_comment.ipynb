{
  "cells": [
    {
      "metadata": {
        "trusted": true
      },
      "cell_type": "code",
      "source": "!pip install -U azureml-sdk",
      "execution_count": 1,
      "outputs": [
        {
          "output_type": "stream",
          "text": "Requirement already up-to-date: azureml-sdk in /home/nbuser/anaconda3_501/lib/python3.6/site-packages (1.0.57)\nRequirement already satisfied, skipping upgrade: azureml-train==1.0.57.* in /home/nbuser/anaconda3_501/lib/python3.6/site-packages (from azureml-sdk) (1.0.57)\nRequirement already satisfied, skipping upgrade: azureml-pipeline==1.0.57.* in /home/nbuser/anaconda3_501/lib/python3.6/site-packages (from azureml-sdk) (1.0.57)\nRequirement already satisfied, skipping upgrade: azureml-dataprep<1.2.0a,>=1.1.10a in /home/nbuser/anaconda3_501/lib/python3.6/site-packages (from azureml-sdk) (1.1.12)\nRequirement already satisfied, skipping upgrade: azureml-core==1.0.57.* in /home/nbuser/anaconda3_501/lib/python3.6/site-packages (from azureml-sdk) (1.0.57)\nRequirement already satisfied, skipping upgrade: azureml-train-core==1.0.57.* in /home/nbuser/anaconda3_501/lib/python3.6/site-packages (from azureml-train==1.0.57.*->azureml-sdk) (1.0.57)\nRequirement already satisfied, skipping upgrade: azureml-pipeline-core==1.0.57.* in /home/nbuser/anaconda3_501/lib/python3.6/site-packages (from azureml-pipeline==1.0.57.*->azureml-sdk) (1.0.57)\nRequirement already satisfied, skipping upgrade: azureml-pipeline-steps==1.0.57.* in /home/nbuser/anaconda3_501/lib/python3.6/site-packages (from azureml-pipeline==1.0.57.*->azureml-sdk) (1.0.57)\nRequirement already satisfied, skipping upgrade: azureml-dataprep-native<14.0.0,>=13.0.2 in /home/nbuser/anaconda3_501/lib/python3.6/site-packages (from azureml-dataprep<1.2.0a,>=1.1.10a->azureml-sdk) (13.0.2)\nRequirement already satisfied, skipping upgrade: dotnetcore2==2.1.8 in /home/nbuser/anaconda3_501/lib/python3.6/site-packages (from azureml-dataprep<1.2.0a,>=1.1.10a->azureml-sdk) (2.1.8)\nRequirement already satisfied, skipping upgrade: cloudpickle>=1.1.0 in /home/nbuser/anaconda3_501/lib/python3.6/site-packages (from azureml-dataprep<1.2.0a,>=1.1.10a->azureml-sdk) (1.2.1)\nRequirement already satisfied, skipping upgrade: requests>=2.19.1 in /home/nbuser/anaconda3_501/lib/python3.6/site-packages (from azureml-core==1.0.57.*->azureml-sdk) (2.22.0)\nRequirement already satisfied, skipping upgrade: azure-mgmt-storage>=1.5.0 in /home/nbuser/anaconda3_501/lib/python3.6/site-packages (from azureml-core==1.0.57.*->azureml-sdk) (2.0.0)\nRequirement already satisfied, skipping upgrade: pathspec in /home/nbuser/anaconda3_501/lib/python3.6/site-packages (from azureml-core==1.0.57.*->azureml-sdk) (0.5.9)\nRequirement already satisfied, skipping upgrade: azure-mgmt-authorization>=0.40.0 in /home/nbuser/anaconda3_501/lib/python3.6/site-packages (from azureml-core==1.0.57.*->azureml-sdk) (0.50.0)\nRequirement already satisfied, skipping upgrade: pytz in /home/nbuser/anaconda3_501/lib/python3.6/site-packages (from azureml-core==1.0.57.*->azureml-sdk) (2018.7)\nRequirement already satisfied, skipping upgrade: ndg-httpsclient in /home/nbuser/anaconda3_501/lib/python3.6/site-packages (from azureml-core==1.0.57.*->azureml-sdk) (0.5.1)\nRequirement already satisfied, skipping upgrade: adal>=1.2.0 in /home/nbuser/anaconda3_501/lib/python3.6/site-packages (from azureml-core==1.0.57.*->azureml-sdk) (1.2.2)\nRequirement already satisfied, skipping upgrade: jsonpickle in /home/nbuser/anaconda3_501/lib/python3.6/site-packages (from azureml-core==1.0.57.*->azureml-sdk) (1.2)\nRequirement already satisfied, skipping upgrade: python-dateutil>=2.7.3 in /home/nbuser/anaconda3_501/lib/python3.6/site-packages (from azureml-core==1.0.57.*->azureml-sdk) (2.8.0)\nRequirement already satisfied, skipping upgrade: docker in /home/nbuser/anaconda3_501/lib/python3.6/site-packages (from azureml-core==1.0.57.*->azureml-sdk) (4.0.2)\nRequirement already satisfied, skipping upgrade: azure-mgmt-containerregistry>=2.0.0 in /home/nbuser/anaconda3_501/lib/python3.6/site-packages (from azureml-core==1.0.57.*->azureml-sdk) (2.8.0)\nRequirement already satisfied, skipping upgrade: six>=1.11.0 in /home/nbuser/anaconda3_501/lib/python3.6/site-packages (from azureml-core==1.0.57.*->azureml-sdk) (1.11.0)\nRequirement already satisfied, skipping upgrade: msrest>=0.5.1 in /home/nbuser/anaconda3_501/lib/python3.6/site-packages (from azureml-core==1.0.57.*->azureml-sdk) (0.6.9)\nRequirement already satisfied, skipping upgrade: SecretStorage in /home/nbuser/anaconda3_501/lib/python3.6/site-packages (from azureml-core==1.0.57.*->azureml-sdk) (3.1.0)\nRequirement already satisfied, skipping upgrade: msrestazure>=0.4.33 in /home/nbuser/anaconda3_501/lib/python3.6/site-packages (from azureml-core==1.0.57.*->azureml-sdk) (0.6.1)\nRequirement already satisfied, skipping upgrade: pyopenssl in /home/nbuser/anaconda3_501/lib/python3.6/site-packages (from azureml-core==1.0.57.*->azureml-sdk) (18.0.0)\nRequirement already satisfied, skipping upgrade: azure-mgmt-resource>=1.2.1 in /home/nbuser/anaconda3_501/lib/python3.6/site-packages (from azureml-core==1.0.57.*->azureml-sdk) (2.0.0)\nRequirement already satisfied, skipping upgrade: urllib3>=1.23 in /home/nbuser/anaconda3_501/lib/python3.6/site-packages (from azureml-core==1.0.57.*->azureml-sdk) (1.23)\nRequirement already satisfied, skipping upgrade: contextlib2 in /home/nbuser/anaconda3_501/lib/python3.6/site-packages (from azureml-core==1.0.57.*->azureml-sdk) (0.5.5)\nRequirement already satisfied, skipping upgrade: PyJWT in /home/nbuser/anaconda3_501/lib/python3.6/site-packages (from azureml-core==1.0.57.*->azureml-sdk) (1.7.1)\nRequirement already satisfied, skipping upgrade: jmespath in /home/nbuser/anaconda3_501/lib/python3.6/site-packages (from azureml-core==1.0.57.*->azureml-sdk) (0.9.4)\nRequirement already satisfied, skipping upgrade: azure-graphrbac>=0.40.0 in /home/nbuser/anaconda3_501/lib/python3.6/site-packages (from azureml-core==1.0.57.*->azureml-sdk) (0.40.0)\nRequirement already satisfied, skipping upgrade: azure-mgmt-keyvault>=0.40.0 in /home/nbuser/anaconda3_501/lib/python3.6/site-packages (from azureml-core==1.0.57.*->azureml-sdk) (1.1.0)\nRequirement already satisfied, skipping upgrade: ruamel.yaml<=0.15.89,>=0.15.35 in /home/nbuser/anaconda3_501/lib/python3.6/site-packages (from azureml-core==1.0.57.*->azureml-sdk) (0.15.89)\nRequirement already satisfied, skipping upgrade: backports.tempfile in /home/nbuser/anaconda3_501/lib/python3.6/site-packages (from azureml-core==1.0.57.*->azureml-sdk) (1.0)\nRequirement already satisfied, skipping upgrade: azure-common>=1.1.12 in /home/nbuser/anaconda3_501/lib/python3.6/site-packages (from azureml-core==1.0.57.*->azureml-sdk) (1.1.23)\nRequirement already satisfied, skipping upgrade: cryptography!=1.9,!=2.0.*,!=2.1.*,!=2.2.* in /home/nbuser/anaconda3_501/lib/python3.6/site-packages (from azureml-core==1.0.57.*->azureml-sdk) (2.3.1)\nRequirement already satisfied, skipping upgrade: azureml-telemetry==1.0.57.* in /home/nbuser/anaconda3_501/lib/python3.6/site-packages (from azureml-train-core==1.0.57.*->azureml-train==1.0.57.*->azureml-sdk) (1.0.57)\nRequirement already satisfied, skipping upgrade: azureml-train-restclients-hyperdrive==1.0.57.* in /home/nbuser/anaconda3_501/lib/python3.6/site-packages (from azureml-train-core==1.0.57.*->azureml-train==1.0.57.*->azureml-sdk) (1.0.57)\nRequirement already satisfied, skipping upgrade: distro>=1.2.0 in /home/nbuser/anaconda3_501/lib/python3.6/site-packages (from dotnetcore2==2.1.8->azureml-dataprep<1.2.0a,>=1.1.10a->azureml-sdk) (1.4.0)\nRequirement already satisfied, skipping upgrade: chardet<3.1.0,>=3.0.2 in /home/nbuser/anaconda3_501/lib/python3.6/site-packages (from requests>=2.19.1->azureml-core==1.0.57.*->azureml-sdk) (3.0.4)\nRequirement already satisfied, skipping upgrade: certifi>=2017.4.17 in /home/nbuser/anaconda3_501/lib/python3.6/site-packages (from requests>=2.19.1->azureml-core==1.0.57.*->azureml-sdk) (2018.10.15)\nRequirement already satisfied, skipping upgrade: idna<2.9,>=2.5 in /home/nbuser/anaconda3_501/lib/python3.6/site-packages (from requests>=2.19.1->azureml-core==1.0.57.*->azureml-sdk) (2.7)\nRequirement already satisfied, skipping upgrade: azure-mgmt-nspkg>=2.0.0 in /home/nbuser/anaconda3_501/lib/python3.6/site-packages (from azure-mgmt-storage>=1.5.0->azureml-core==1.0.57.*->azureml-sdk) (3.0.2)\nRequirement already satisfied, skipping upgrade: pyasn1>=0.1.1 in /home/nbuser/anaconda3_501/lib/python3.6/site-packages (from ndg-httpsclient->azureml-core==1.0.57.*->azureml-sdk) (0.4.4)\nRequirement already satisfied, skipping upgrade: websocket-client>=0.32.0 in /home/nbuser/anaconda3_501/lib/python3.6/site-packages (from docker->azureml-core==1.0.57.*->azureml-sdk) (0.56.0)\nRequirement already satisfied, skipping upgrade: requests-oauthlib>=0.5.0 in /home/nbuser/anaconda3_501/lib/python3.6/site-packages (from msrest>=0.5.1->azureml-core==1.0.57.*->azureml-sdk) (1.2.0)\n",
          "name": "stdout"
        },
        {
          "output_type": "stream",
          "text": "Requirement already satisfied, skipping upgrade: isodate>=0.6.0 in /home/nbuser/anaconda3_501/lib/python3.6/site-packages (from msrest>=0.5.1->azureml-core==1.0.57.*->azureml-sdk) (0.6.0)\nRequirement already satisfied, skipping upgrade: jeepney in /home/nbuser/anaconda3_501/lib/python3.6/site-packages (from SecretStorage->azureml-core==1.0.57.*->azureml-sdk) (0.4)\nRequirement already satisfied, skipping upgrade: azure-nspkg>=2.0.0 in /home/nbuser/anaconda3_501/lib/python3.6/site-packages (from azure-graphrbac>=0.40.0->azureml-core==1.0.57.*->azureml-sdk) (3.0.2)\nRequirement already satisfied, skipping upgrade: backports.weakref in /home/nbuser/anaconda3_501/lib/python3.6/site-packages (from backports.tempfile->azureml-core==1.0.57.*->azureml-sdk) (1.0rc1)\nRequirement already satisfied, skipping upgrade: asn1crypto>=0.21.0 in /home/nbuser/anaconda3_501/lib/python3.6/site-packages (from cryptography!=1.9,!=2.0.*,!=2.1.*,!=2.2.*->azureml-core==1.0.57.*->azureml-sdk) (0.24.0)\nRequirement already satisfied, skipping upgrade: cffi!=1.11.3,>=1.7 in /home/nbuser/anaconda3_501/lib/python3.6/site-packages (from cryptography!=1.9,!=2.0.*,!=2.1.*,!=2.2.*->azureml-core==1.0.57.*->azureml-sdk) (1.11.5)\nRequirement already satisfied, skipping upgrade: applicationinsights in /home/nbuser/anaconda3_501/lib/python3.6/site-packages (from azureml-telemetry==1.0.57.*->azureml-train-core==1.0.57.*->azureml-train==1.0.57.*->azureml-sdk) (0.11.9)\nRequirement already satisfied, skipping upgrade: oauthlib>=3.0.0 in /home/nbuser/anaconda3_501/lib/python3.6/site-packages (from requests-oauthlib>=0.5.0->msrest>=0.5.1->azureml-core==1.0.57.*->azureml-sdk) (3.1.0)\nRequirement already satisfied, skipping upgrade: pycparser in /home/nbuser/anaconda3_501/lib/python3.6/site-packages (from cffi!=1.11.3,>=1.7->cryptography!=1.9,!=2.0.*,!=2.1.*,!=2.2.*->azureml-core==1.0.57.*->azureml-sdk) (2.19)\n\u001b[33mWARNING: You are using pip version 19.2.2, however version 19.2.3 is available.\nYou should consider upgrading via the 'pip install --upgrade pip' command.\u001b[0m\n",
          "name": "stdout"
        }
      ]
    },
    {
      "metadata": {
        "trusted": true
      },
      "cell_type": "code",
      "source": "import azureml.core\nprint(\"SDK version:\", azureml.core.VERSION)",
      "execution_count": 2,
      "outputs": [
        {
          "output_type": "stream",
          "text": "SDK version: 1.0.57\n",
          "name": "stdout"
        }
      ]
    },
    {
      "metadata": {
        "trusted": true
      },
      "cell_type": "code",
      "source": "from azureml.core import Workspace\nws = Workspace(subscription_id=\"ee85ed72-2b26-48f6-a0e8-cb5bcf98fbd9\", resource_group=\"DatasetTestRG\", workspace_name=\"Dataset-Test-WS\")\nprint(ws.name, ws.resource_group, ws.location, ws.subscription_id, sep = '\\n')",
      "execution_count": 3,
      "outputs": [
        {
          "output_type": "stream",
          "text": "Performing interactive authentication. Please follow the instructions on the terminal.\nTo sign in, use a web browser to open the page https://microsoft.com/devicelogin and enter the code FUDNG5XE4 to authenticate.\nInteractive authentication successfully completed.\nDataset-Test-WS\nDatasetTestRG\neastus\nee85ed72-2b26-48f6-a0e8-cb5bcf98fbd9\n",
          "name": "stdout"
        }
      ]
    },
    {
      "metadata": {
        "trusted": true
      },
      "cell_type": "code",
      "source": "from azureml.core.compute import AmlCompute\ncompute_target_name = \"nlp-test\"\ncompute_target = AmlCompute(ws, compute_target_name)",
      "execution_count": 4,
      "outputs": []
    },
    {
      "metadata": {
        "trusted": true
      },
      "cell_type": "code",
      "source": "from azureml.core.conda_dependencies import CondaDependencies\nfrom azureml.core.runconfig import RunConfiguration\nfrom azureml.core.environment import DockerSection\nrunconfig = RunConfiguration(framework=\"python\")\nrunconfig.environment.python.conda_dependencies = CondaDependencies('dependencies.yml')\nrunconfig.environment.docker = DockerSection()\nrunconfig.environment.docker.enabled = True\nrunconfig.environment.docker.gpu_support = True\nrunconfig.environment.docker.base_image = azureml.core.runconfig.DEFAULT_GPU_IMAGE",
      "execution_count": 5,
      "outputs": []
    },
    {
      "metadata": {
        "trusted": true
      },
      "cell_type": "code",
      "source": "from azureml.data.data_reference import DataReference\nfrom azureml.core import Datastore\nds = Datastore.get(ws, 'workspaceblobstore')",
      "execution_count": 6,
      "outputs": []
    },
    {
      "metadata": {
        "trusted": true
      },
      "cell_type": "code",
      "source": "# # data module\nfrom azureml.pipeline.core import PipelineData\nfrom azureml.pipeline.steps import PythonScriptStep\n\n# # train_input_data = DataReference(\n# #     datastore=ds,\n# #     data_reference_name=\"train_input_data\",\n# #     path_on_datastore=\"train/cleaned_train_sampled.csv\")\ntrain_input_data = DataReference(\n    datastore=ds,\n    data_reference_name=\"train_input_data\",\n    path_on_datastore=\"debug/train_16.csv\")\n# train_data = PipelineData(\"train_data\",datastore=ds)\n\n# load_train_data_step = PythonScriptStep(\n#     name=\"load_data_step\",\n#     script_name=\"run_modules/data_module.py\", \n#     arguments=[\"--input_data\", train_input_data, \n#                \"--output_dir\", train_data],\n#     inputs=[train_input_data],\n#     outputs=[train_data],\n#     compute_target=compute_target,\n#     runconfig = runconfig,\n#     source_directory='.'\n# )",
      "execution_count": 12,
      "outputs": []
    },
    {
      "metadata": {
        "trusted": true
      },
      "cell_type": "code",
      "source": "# # data module —— load test dataset\n# # test_input_data = DataReference(\n# #     datastore=ds,\n# #     data_reference_name=\"test_input_data\",\n# #     path_on_datastore=\"test/cleaned_test_data_labels.csv\")\ntest_input_data = DataReference(\n    datastore=ds,\n    data_reference_name=\"test_input_data\",\n    path_on_datastore=\"debug/test_32.csv\")\n\n# test_data = PipelineData(\"test_data\",datastore=ds)\n\n# load_test_data_step = PythonScriptStep(\n#     name=\"load_test_data_step\",\n#     script_name=\"run_modules/data_module.py\", \n#     arguments=[\"--input_data\", test_input_data, \n#                \"--output_dir\", test_data],\n#     inputs=[test_input_data],\n#     outputs=[test_data],\n#     compute_target=compute_target,\n#     runconfig = runconfig,\n#     source_directory='.'\n# )",
      "execution_count": 13,
      "outputs": []
    },
    {
      "metadata": {
        "trusted": true
      },
      "cell_type": "code",
      "source": "#split data module\n# dataset1 = PipelineData(\"output_data1\",datastore=ds)\n# dataset2 = PipelineData(\"output_data2\",datastore=ds)\n# #parameters\n# row_split_rate = 0.7\n# random = True\n# random_seed = 200\n# split_data_step = PythonScriptStep(\n#     name=\"split_data_step\",\n#     script_name=\"run_modules/split_data_module.py\", \n#     arguments=[\"--input_dir\", train_data, \n#                \"--output_dir1\", dataset1,\n#                \"--output_dir2\", dataset2,\n#                \"--row_split_rate\", row_split_rate,\n#                \"--random\", random,\n#                \"--random_seed\", random_seed],\n#     inputs=[train_data],\n#     outputs=[dataset1, dataset2],\n#     compute_target=compute_target,\n#     runconfig = runconfig,\n#     source_directory='.'\n# )\n",
      "execution_count": 14,
      "outputs": []
    },
    {
      "metadata": {
        "trusted": true
      },
      "cell_type": "code",
      "source": "# dataset1 = train_data\n# dataset2 = test_data",
      "execution_count": 15,
      "outputs": []
    },
    {
      "metadata": {
        "trusted": true
      },
      "cell_type": "code",
      "source": "# bert module\nchosed_model = PipelineData(\"chosed_bert\",datastore=ds)\n\nlanguage = \"En\"\nuncased = True\nbuild_bert_step = PythonScriptStep(\n    name=\"build_bert_step\",\n    script_name=\"run_modules/bert_url_module.py\", \n    arguments=[\"--out_model_dir\", chosed_model,\n               \"--language\", language,\n              \"--uncased\", uncased],\n    outputs=[chosed_model],\n    compute_target=compute_target,\n    runconfig = runconfig,\n    source_directory='.'\n)\n",
      "execution_count": 16,
      "outputs": []
    },
    {
      "metadata": {
        "trusted": true
      },
      "cell_type": "code",
      "source": "# custom added layer module\n# label_num = 6\n#category = 'lstm_multi_label_classifier' \nlayer_name = 'multi_label_classifier'\nadded_layer = PipelineData(\"added_layer\",datastore=ds)\ncustom_layer_step = PythonScriptStep(\n    name=\"custom_layer_step\",\n    script_name=\"run_modules/add_layer_module.py\", \n    arguments=[\"--layer_name\", layer_name,\n               \"--output_dir\", added_layer],\n    outputs=[added_layer],\n    compute_target=compute_target,\n    runconfig = runconfig,\n    source_directory='.'\n)\n",
      "execution_count": 17,
      "outputs": []
    },
    {
      "metadata": {
        "trusted": true
      },
      "cell_type": "code",
      "source": "# train module \n\ntrained_model_dir = PipelineData(\"trained_model_dir\", datastore=ds)\nis_training_bert= False # Device cannot support training and is generally setted False.\ntrain_batch_size = 2\nuse_gpu = True\nnum_gpu_cores = 4\nlearning_rate = 5e-5\nnum_train_epochs = 3.0\ntrain_column_names =\"comment_text\"\nlabel_column_names = \"toxic severe_toxic obscene threat insult identity_hate\"\ntrain_step = PythonScriptStep(\n    name=\"train_step\",\n    script_name=\"run_modules/train_module.py\", \n    arguments=[\"--bert_dir\", chosed_model,\n               \"--added_layer_config\", added_layer,\n               \"--train_data\", train_input_data,\n               \"--output_dir\", trained_model_dir,\n               \"--is_training_bert\", is_training_bert,\n               \"--train_batch_size\", train_batch_size,\n               \"--use_gpu\",use_gpu,\n               \"--num_gpu_cores\", num_gpu_cores,\n               \"--learning_rate\", learning_rate,\n               \"--num_train_epochs\", num_train_epochs,\n               \"--train_column_names\",train_column_names,\n               \"--label_column_names\", label_column_names],\n    inputs=[chosed_model, added_layer, train_input_data],\n    outputs=[trained_model_dir],\n    compute_target=compute_target,\n    runconfig = runconfig,\n    source_directory='.'\n)\n\n",
      "execution_count": 18,
      "outputs": []
    },
    {
      "metadata": {
        "trusted": true
      },
      "cell_type": "code",
      "source": "# score/predict module\n\npredict_result_dir = PipelineData(\"predict_dir\",datastore=ds)\npredict_batch_size = 2\nuse_gpu = True\nnum_gpu_cores = 4\npredict_column_names = \"comment_text\"\npredict_step = PythonScriptStep(\n    name=\"predict_step\",\n    script_name=\"run_modules/predict_module.py\", \n    arguments=[\"--test_data\", test_input_data,\n               \"--trained_model_dir\", trained_model_dir,\n               \"--output_dir\", predict_result_dir,\n               \"--predict_batch_size\", predict_batch_size,\n               \"--use_gpu\", use_gpu,\n               \"--num_gpu_cores\", num_gpu_cores,\n               \"--predict_column_names\", predict_column_names],\n    inputs=[test_input_data, trained_model_dir],\n    outputs=[predict_result_dir],\n    compute_target=compute_target,\n    runconfig = runconfig,\n    source_directory='.'\n)",
      "execution_count": 19,
      "outputs": []
    },
    {
      "metadata": {
        "trusted": true
      },
      "cell_type": "code",
      "source": "# evaluate module\nevaluate_result_dir = PipelineData(\"evaluate_results\",datastore=ds)\npr = True\nroc = True\nlabel_columns = \"toxic severe_toxic obscene threat insult identity_hate\"\nprobability_columns = \"probability_1 probability_2 probability_3 probability_4 probability_5 probability_6\"\nevaluate_step = PythonScriptStep(\n    name=\"evaluate_step\",\n    script_name=\"run_modules/evaluate_module.py\", \n    arguments=[ \"--input_data\", predict_result_dir,\n                \"--pr\", pr,\n                \"--roc\", roc,\n                \"--output_dir\", evaluate_result_dir,\n                \"--label_columns\", label_columns,\n                \"--probability_columns\", probability_columns],\n    inputs=[predict_result_dir],\n    outputs=[evaluate_result_dir],\n    compute_target=compute_target,\n    runconfig = runconfig,\n    source_directory='.'\n)",
      "execution_count": 20,
      "outputs": []
    },
    {
      "metadata": {
        "trusted": true
      },
      "cell_type": "code",
      "source": "from azureml.core import Experiment\nfrom azureml.pipeline.core import Pipeline\npipeline_toxic= Pipeline(workspace=ws, steps=[evaluate_step])\n#pipeline_split_data = Pipeline(workspace=ws, steps=[split_data_step])\n",
      "execution_count": 21,
      "outputs": []
    },
    {
      "metadata": {
        "trusted": true
      },
      "cell_type": "code",
      "source": "pipeline_run = Experiment(ws, 'toxic_comment').submit(pipeline_toxic)\n#pipeline_run = Experiment(ws, 'toxic_comment').submit(pipeline_split_data)",
      "execution_count": 22,
      "outputs": [
        {
          "output_type": "stream",
          "text": "Created step evaluate_step [a1e2db07][98fec78d-7226-4350-9660-aba29abb8ecc], (This step will run and generate new outputs)\nCreated step predict_step [e1d6c2f2][2e258821-0159-4654-b5c8-1637a0db92c2], (This step will run and generate new outputs)\nCreated step train_step [737afc03][acf029aa-b4ca-4365-bdaf-50e8489e991b], (This step will run and generate new outputs)\nCreated step build_bert_step [8243b64a][bbafb92a-9a21-42a2-a0dc-34d87dca42c9], (This step will run and generate new outputs)\nCreated step custom_layer_step [fe687fd3][6783812a-e59c-4252-8a7f-2594a1cccc51], (This step will run and generate new outputs)\nUsing data reference test_input_data for StepId [87d28163][a191684b-1c2b-4289-9f01-1b69a7d71127], (Consumers of this data are eligible to reuse prior runs.)\nUsing data reference train_input_data for StepId [26b6056b][7975ef43-339a-49fe-a0cc-f23212c3204e], (Consumers of this data are eligible to reuse prior runs.)\nSubmitted pipeline run: ae072fb3-fb0e-4c99-9430-275eb34c2c2c\n",
          "name": "stdout"
        }
      ]
    },
    {
      "metadata": {
        "trusted": true
      },
      "cell_type": "code",
      "source": "from azureml.core import Experiment\nfrom azureml.pipeline.core import PipelineRun\npipeline_run = Experiment(ws, 'toxic_comment')\npipeline_run = PipelineRun(pipeline_run, \"0bf16d6b-1fc4-44a9-ab0f-f065256e01a8\")\npipeline_run.cancel()\n",
      "execution_count": 21,
      "outputs": []
    },
    {
      "metadata": {
        "trusted": true
      },
      "cell_type": "code",
      "source": "",
      "execution_count": null,
      "outputs": []
    }
  ],
  "metadata": {
    "kernelspec": {
      "name": "python36",
      "display_name": "Python 3.6",
      "language": "python"
    },
    "language_info": {
      "mimetype": "text/x-python",
      "nbconvert_exporter": "python",
      "name": "python",
      "pygments_lexer": "ipython3",
      "version": "3.6.6",
      "file_extension": ".py",
      "codemirror_mode": {
        "version": 3,
        "name": "ipython"
      }
    }
  },
  "nbformat": 4,
  "nbformat_minor": 2
}